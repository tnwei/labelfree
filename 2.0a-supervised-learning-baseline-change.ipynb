{
 "cells": [
  {
   "cell_type": "code",
   "execution_count": 1,
   "metadata": {},
   "outputs": [],
   "source": [
    "import numpy as np\n",
    "import matplotlib.pyplot as plt\n",
    "%matplotlib inline"
   ]
  },
  {
   "cell_type": "code",
   "execution_count": 2,
   "metadata": {},
   "outputs": [],
   "source": [
    "import torch\n",
    "import torch.nn as nn\n",
    "import torch.nn.functional as F\n",
    "import torch.optim as optim\n",
    "from torch.utils.data import DataLoader"
   ]
  },
  {
   "cell_type": "markdown",
   "metadata": {},
   "source": [
    "## Data"
   ]
  },
  {
   "cell_type": "code",
   "execution_count": 3,
   "metadata": {},
   "outputs": [],
   "source": [
    "image_train = np.load('data/processed/image_train.npy').astype(np.float32) / 255\n",
    "change_train = np.load('data/processed/change_train.npy').astype(np.float32) / 255\n",
    "label_train = np.load('data/processed/label_train.npy').astype(np.float32)\n",
    "\n",
    "image_test = np.load('data/processed/image_test.npy').astype(np.float32) / 255\n",
    "change_test = np.load('data/processed/change_test.npy').astype(np.float32) / 255\n",
    "label_test = np.load('data/processed/label_test.npy').astype(np.float32)"
   ]
  },
  {
   "cell_type": "code",
   "execution_count": 4,
   "metadata": {},
   "outputs": [
    {
     "name": "stdout",
     "output_type": "stream",
     "text": [
      "(520, 3, 280, 600) (520, 1, 280, 600) (520, 2)\n",
      "(80, 3, 280, 600) (80, 1, 280, 600) (80, 2)\n"
     ]
    }
   ],
   "source": [
    "print(image_train.shape, change_train.shape, label_train.shape)\n",
    "print(image_test.shape, change_test.shape, label_test.shape)"
   ]
  },
  {
   "cell_type": "code",
   "execution_count": 5,
   "metadata": {},
   "outputs": [],
   "source": [
    "class TrebuchetDataset(torch.utils.data.Dataset):\n",
    "    def __init__(self, X, y):\n",
    "        super(TrebuchetDataset, self).__init__()\n",
    "        self.X = X # Should have shape (ysize, xsize, channels, frames)\n",
    "        self.y = y # Should have shape (frames,)\n",
    "        assert len(X) == len(y)\n",
    "        \n",
    "    def __len__(self):\n",
    "        return len(self.X)\n",
    "        \n",
    "    def __getitem__(self, idx):\n",
    "        return (self.X[idx, ...], self.y[idx, ...])"
   ]
  },
  {
   "cell_type": "code",
   "execution_count": 6,
   "metadata": {},
   "outputs": [],
   "source": [
    "train_dataset = TrebuchetDataset(change_train, label_train)\n",
    "test_dataset = TrebuchetDataset(change_test, label_test)"
   ]
  },
  {
   "cell_type": "code",
   "execution_count": 7,
   "metadata": {},
   "outputs": [],
   "source": [
    "# Must have batch size 20\n",
    "train_dataloader = DataLoader(train_dataset, batch_size=20)\n",
    "test_dataloader = DataLoader(test_dataset, batch_size=20)"
   ]
  },
  {
   "cell_type": "code",
   "execution_count": 8,
   "metadata": {},
   "outputs": [
    {
     "data": {
      "text/plain": [
       "(torch.Size([20, 1, 280, 600]), torch.Size([20, 2]))"
      ]
     },
     "execution_count": 8,
     "metadata": {},
     "output_type": "execute_result"
    }
   ],
   "source": [
    "# Check I/O size\n",
    "features, label = next(iter(train_dataloader))\n",
    "features.shape, label.shape"
   ]
  },
  {
   "cell_type": "markdown",
   "metadata": {},
   "source": [
    "## Model"
   ]
  },
  {
   "cell_type": "markdown",
   "metadata": {},
   "source": [
    "Small Conv net, does not warrant the overhead of moving to GPU. CPU will be fine."
   ]
  },
  {
   "cell_type": "code",
   "execution_count": 9,
   "metadata": {},
   "outputs": [],
   "source": [
    "class Net(nn.Module):\n",
    "    \"\"\"\n",
    "    3 x (Conv2d-> MaxPool2d), then flattened and passed to 3 x Linear\n",
    "    \"\"\"\n",
    "    def __init__(self):\n",
    "        super(Net, self).__init__()\n",
    "        layers = [\n",
    "            # Input X expected to have shape (20, 1, 280, 600)\n",
    "            nn.Conv2d(in_channels=1, out_channels=8, kernel_size=(3, 3), stride=(1, 1)),\n",
    "            nn.MaxPool2d(kernel_size=(2, 2)),\n",
    "            nn.Conv2d(in_channels=8, out_channels=16, kernel_size=(3, 3), stride=(1, 1)),\n",
    "            nn.MaxPool2d(kernel_size=(2, 2)),\n",
    "            nn.Conv2d(in_channels=16, out_channels=32, kernel_size=(3, 3), stride=(1, 1)),\n",
    "            nn.MaxPool2d(kernel_size=(2, 2)),\n",
    "            nn.Conv2d(in_channels=32, out_channels=64, kernel_size=(3, 3), stride=(1, 1)),\n",
    "            nn.MaxPool2d(kernel_size=(2, 2)), \n",
    "            # At this point, X shape is (20, 64, 15, 35)\n",
    "            \n",
    "            # nn.Conv2d(in_channels=64, out_channels=1, kernel_size=(3, 3), stride=(1, 1)), # add this one? should trim num weights further\n",
    "            \n",
    "            # Flattened shape is (20, 64*15*35) = (20, 33600)\n",
    "            nn.Flatten(),\n",
    "            nn.Linear(in_features=33600, out_features=64),\n",
    "            nn.SELU(),\n",
    "            nn.Linear(in_features=64, out_features=8),\n",
    "            nn.SELU(),\n",
    "            nn.Linear(in_features=8, out_features=2),\n",
    "            nn.Sigmoid() # Hard cap to 0 - 1 range\n",
    "        ]\n",
    "\n",
    "        self.layers = nn.Sequential(*layers)\n",
    "        \n",
    "    def forward(self, x):\n",
    "        x = self.layers(x)\n",
    "        return x"
   ]
  },
  {
   "cell_type": "code",
   "execution_count": 10,
   "metadata": {},
   "outputs": [],
   "source": [
    "net = Net()\n",
    "net.train();"
   ]
  },
  {
   "cell_type": "code",
   "execution_count": 11,
   "metadata": {},
   "outputs": [],
   "source": [
    "criterion = nn.MSELoss()\n",
    "optimizer = optim.Adam(net.parameters())"
   ]
  },
  {
   "cell_type": "code",
   "execution_count": 12,
   "metadata": {},
   "outputs": [],
   "source": [
    "# Verify net I/O size\n",
    "test_output = net(torch.randn(20, 1, 280, 600))"
   ]
  },
  {
   "cell_type": "code",
   "execution_count": 13,
   "metadata": {},
   "outputs": [
    {
     "data": {
      "text/plain": [
       "torch.Size([20, 2])"
      ]
     },
     "execution_count": 13,
     "metadata": {},
     "output_type": "execute_result"
    }
   ],
   "source": [
    "test_output.shape"
   ]
  },
  {
   "cell_type": "code",
   "execution_count": 14,
   "metadata": {},
   "outputs": [],
   "source": [
    "epochs = 30"
   ]
  },
  {
   "cell_type": "code",
   "execution_count": 15,
   "metadata": {},
   "outputs": [
    {
     "name": "stdout",
     "output_type": "stream",
     "text": [
      "1 loss: 0.0338\n",
      "2 loss: 0.0292\n",
      "3 loss: 0.0286\n",
      "4 loss: 0.0283\n",
      "5 loss: 0.029\n",
      "6 loss: 0.0287\n",
      "7 loss: 0.0282\n",
      "8 loss: 0.0305\n",
      "9 loss: 0.0289\n",
      "10 loss: 0.0298\n",
      "11 loss: 0.0288\n",
      "12 loss: 0.0306\n",
      "13 loss: 0.0298\n",
      "14 loss: 0.0285\n",
      "15 loss: 0.027\n",
      "16 loss: 0.0236\n",
      "17 loss: 0.0124\n",
      "18 loss: 0.00498\n",
      "19 loss: 0.00286\n",
      "20 loss: 0.00191\n",
      "21 loss: 0.00141\n",
      "22 loss: 0.00108\n",
      "23 loss: 0.000887\n",
      "24 loss: 0.000758\n",
      "25 loss: 0.000656\n",
      "26 loss: 0.000619\n",
      "27 loss: 0.000537\n",
      "28 loss: 0.000511\n",
      "29 loss: 0.00045\n",
      "30 loss: 0.000437\n"
     ]
    }
   ],
   "source": [
    "for epoch in range(epochs):\n",
    "    running_loss = 0\n",
    "    \n",
    "    for count, (features, labels) in enumerate(train_dataloader):\n",
    "        optimizer.zero_grad()\n",
    "        output = net(features)\n",
    "        loss = criterion(output, labels)\n",
    "        loss.backward()\n",
    "        optimizer.step()\n",
    "\n",
    "        running_loss += loss.item()\n",
    "\n",
    "    print(f'{epoch+1} loss: {running_loss/count:.3g}')"
   ]
  },
  {
   "cell_type": "code",
   "execution_count": 16,
   "metadata": {},
   "outputs": [],
   "source": [
    "change_train_ten = torch.FloatTensor(change_train)\n",
    "change_test_ten = torch.FloatTensor(change_test)"
   ]
  },
  {
   "cell_type": "code",
   "execution_count": 17,
   "metadata": {},
   "outputs": [],
   "source": [
    "net.eval();"
   ]
  },
  {
   "cell_type": "code",
   "execution_count": 18,
   "metadata": {},
   "outputs": [],
   "source": [
    "label_train_hat_list = []\n",
    "label_test_hat_list = []\n",
    "\n",
    "with torch.no_grad():\n",
    "    for features, label in train_dataloader:\n",
    "        label_train_hat = net(features)\n",
    "        label_train_hat_list.append(label_train_hat)\n",
    "\n",
    "    for features, label in test_dataloader:\n",
    "        label_test_hat = net(features)\n",
    "        label_test_hat_list.append(label_test_hat)"
   ]
  },
  {
   "cell_type": "code",
   "execution_count": 19,
   "metadata": {},
   "outputs": [],
   "source": [
    "label_train_hat = torch.cat(label_train_hat_list, dim=0)\n",
    "label_test_hat = torch.cat(label_test_hat_list, dim=0)"
   ]
  },
  {
   "cell_type": "code",
   "execution_count": 20,
   "metadata": {},
   "outputs": [
    {
     "data": {
      "image/png": "[encoded data removed]",
      "text/plain": [
       "<Figure size 432x288 with 1 Axes>"
      ]
     },
     "metadata": {
      "needs_background": "light"
     },
     "output_type": "display_data"
    }
   ],
   "source": [
    "plt.ylabel('Actual y-pos')\n",
    "plt.xlabel('Predicted y-pos')\n",
    "plt.scatter(label_train_hat[:, 1], label_train[:, 1], label='Train', c='C0')\n",
    "plt.scatter(label_test_hat[:, 1], label_test[:, 1], label='Test', c='C1')\n",
    "\n",
    "# Plot y=x red line\n",
    "plt.plot(\n",
    "    [label_test[:, 1].min(), label_test[:, 1].max()], \n",
    "    [label_test[:, 1].min(), label_test[:, 1].max()], \n",
    "    c='red'\n",
    ")\n",
    "plt.legend()\n",
    "plt.show()"
   ]
  },
  {
   "cell_type": "code",
   "execution_count": 21,
   "metadata": {},
   "outputs": [
    {
     "data": {
      "image/png": "[encoded data removed]",
      "text/plain": [
       "<Figure size 432x288 with 1 Axes>"
      ]
     },
     "metadata": {
      "needs_background": "light"
     },
     "output_type": "display_data"
    }
   ],
   "source": [
    "plt.ylabel('Actual x-pos')\n",
    "plt.xlabel('Predicted x-pos')\n",
    "plt.scatter(label_train_hat[:, 0], label_train[:, 0], label='Train', c='C0')\n",
    "plt.scatter(label_test_hat[:, 0], label_test[:, 0], label='Test', c='C1')\n",
    "\n",
    "# Plot y=x red line\n",
    "plt.plot(\n",
    "    [label_test[:, 0].min(), label_test[:, 0].max()], \n",
    "    [label_test[:, 0].min(), label_test[:, 0].max()], \n",
    "    c='red'\n",
    ")\n",
    "plt.legend()\n",
    "plt.show()"
   ]
  },
  {
   "cell_type": "code",
   "execution_count": 22,
   "metadata": {},
   "outputs": [],
   "source": [
    "torch.save(net, \"output/sl-baseline-change.pt\")"
   ]
  }
 ],
 "metadata": {
  "kernelspec": {
   "display_name": "Python [conda env:labelfree]",
   "language": "python",
   "name": "conda-env-labelfree-py"
  },
  "language_info": {
   "codemirror_mode": {
    "name": "ipython",
    "version": 3
   },
   "file_extension": ".py",
   "mimetype": "text/x-python",
   "name": "python",
   "nbconvert_exporter": "python",
   "pygments_lexer": "ipython3",
   "version": "3.9.9"
  },
  "widgets": {
   "application/vnd.jupyter.widget-state+json": {
    "state": {},
    "version_major": 2,
    "version_minor": 0
   }
  }
 },
 "nbformat": 4,
 "nbformat_minor": 4
}
