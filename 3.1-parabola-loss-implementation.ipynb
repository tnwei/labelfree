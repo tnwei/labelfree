{
 "cells": [
  {
   "cell_type": "markdown",
   "metadata": {
    "id": "9K6O7mGu0UVB"
   },
   "source": [
    "Think there are some errors in the implementation. Loss was zero but network predictions have not converged!"
   ]
  },
  {
   "cell_type": "code",
   "execution_count": 1,
   "metadata": {
    "id": "pAXUIsgIrLEu"
   },
   "outputs": [],
   "source": [
    "import numpy as np\n",
    "import matplotlib.pyplot as plt\n",
    "import seaborn as sns\n",
    "%matplotlib inline"
   ]
  },
  {
   "cell_type": "code",
   "execution_count": 2,
   "metadata": {
    "id": "6b9xXIMF312v"
   },
   "outputs": [],
   "source": [
    "def precompute_terms(N: int = 10, delta_t: float = 0.1, g: float = -9.8):\n",
    "    # velocity and displacement terms mat\n",
    "    vd_mat = np.stack([\n",
    "        [i * delta_t for i in range(1, N+1)],\n",
    "        [1] * N\n",
    "    ], axis=1)\n",
    "\n",
    "    accel_mat = np.array([g * (i * delta_t) ** 2 for i in range(1, N+1)])\n",
    "    accel_mat = np.expand_dims(accel_mat, axis=1)\n",
    "\n",
    "    F_mat = np.linalg.inv(accel_mat.transpose() @ accel_mat)\n",
    "    F_mat = accel_mat @ F_mat @ accel_mat.transpose()\n",
    "\n",
    "    return F_mat, accel_mat"
   ]
  },
  {
   "cell_type": "code",
   "execution_count": 3,
   "metadata": {
    "id": "yQqeARGQ4LLg"
   },
   "outputs": [],
   "source": [
    "def parabola_loss(preds: np.ndarray, F_mat, accel_mat):\n",
    "    # preds should have shape (N, 1)\n",
    "    parabola = accel_mat + F_mat @ (preds - accel_mat)\n",
    "    return np.sum(np.abs(parabola - preds))"
   ]
  },
  {
   "cell_type": "markdown",
   "metadata": {
    "id": "6ZlGfN_aZfRb"
   },
   "source": [
    "## Further testing required"
   ]
  },
  {
   "cell_type": "code",
   "execution_count": 4,
   "metadata": {
    "id": "4oFWixZCZkYK"
   },
   "outputs": [],
   "source": [
    "def generate_parabola():\n",
    "    # Using parameters from the NASA trebuchet dataset\n",
    "    delta_t = 0.0333\n",
    "    N = 20\n",
    "    t = np.arange(start=0, stop=0.0333*N, step=0.0333)\n",
    "    g = 9.8\n",
    "    v0 = np.random.uniform(low=-2, high=-1)\n",
    "    y0 = np.random.uniform(low=0, high=0.5)\n",
    "    \n",
    "    y = 0.5 * 9.8 * t ** 2 + v0 * t + y0\n",
    "    \n",
    "    return y"
   ]
  },
  {
   "cell_type": "code",
   "execution_count": 5,
   "metadata": {
    "colab": {
     "base_uri": "https://localhost:8080/",
     "height": 265
    },
    "id": "p7YwAeROwgBJ",
    "outputId": "b48b3396-1c87-4516-8e29-f697d28eea75"
   },
   "outputs": [
    {
     "data": {
      "image/png": "[encoded data removed]",
      "text/plain": [
       "<Figure size 432x288 with 1 Axes>"
      ]
     },
     "metadata": {
      "needs_background": "light"
     },
     "output_type": "display_data"
    }
   ],
   "source": [
    "for _ in range(5):\n",
    "    plt.plot(generate_parabola())\n",
    "\n",
    "plt.show()"
   ]
  },
  {
   "cell_type": "code",
   "execution_count": 6,
   "metadata": {
    "id": "m5X-9MyUyruv"
   },
   "outputs": [],
   "source": [
    "F_mat, accel_mat = precompute_terms(N=20, delta_t=0.0333, g=9.8)"
   ]
  },
  {
   "cell_type": "code",
   "execution_count": 7,
   "metadata": {
    "colab": {
     "base_uri": "https://localhost:8080/"
    },
    "id": "UJDTb4xA1156",
    "outputId": "988f6e6c-402e-4f4f-ac5a-346fce0fd9e4"
   },
   "outputs": [
    {
     "data": {
      "text/plain": [
       "array([[0.01086712],\n",
       "       [0.04346849],\n",
       "       [0.0978041 ],\n",
       "       [0.17387395],\n",
       "       [0.27167805],\n",
       "       [0.39121639],\n",
       "       [0.53248898],\n",
       "       [0.69549581],\n",
       "       [0.88023688],\n",
       "       [1.0867122 ],\n",
       "       [1.31492176],\n",
       "       [1.56486557],\n",
       "       [1.83654362],\n",
       "       [2.12995591],\n",
       "       [2.44510245],\n",
       "       [2.78198323],\n",
       "       [3.14059826],\n",
       "       [3.52094753],\n",
       "       [3.92303104],\n",
       "       [4.3468488 ]])"
      ]
     },
     "execution_count": 7,
     "metadata": {},
     "output_type": "execute_result"
    }
   ],
   "source": [
    "accel_mat"
   ]
  },
  {
   "cell_type": "code",
   "execution_count": 8,
   "metadata": {
    "colab": {
     "base_uri": "https://localhost:8080/"
    },
    "id": "oPh3OUX0y0Lp",
    "outputId": "852b1eea-d7dd-4ccf-eebf-91e3acc9f412"
   },
   "outputs": [
    {
     "name": "stdout",
     "output_type": "stream",
     "text": [
      "1.6035824348170131\n",
      "2.1391117556553807\n",
      "2.052469475995691\n",
      "1.8721528474112732\n",
      "1.171762745937207\n"
     ]
    }
   ],
   "source": [
    "for _ in range(5):\n",
    "    generated_parabola = generate_parabola()\n",
    "    generated_parabola = np.expand_dims(generated_parabola, axis=-1)\n",
    "    print(parabola_loss(generated_parabola, F_mat, accel_mat))"
   ]
  },
  {
   "cell_type": "markdown",
   "metadata": {
    "id": "1LNAvZ_By_Ki"
   },
   "source": [
    "Seems kinda reasonable. I was seeing loss values >100 when a random float tensor was provided as input."
   ]
  },
  {
   "cell_type": "code",
   "execution_count": 9,
   "metadata": {
    "id": "l00EwrEj0yyj"
   },
   "outputs": [],
   "source": [
    "# Example label from dataset\n",
    "aten = np.array([0.32314324, 0.30089265, 0.28399983, 0.27242175, 0.26611087,\n",
    "       0.26501596, 0.26908335, 0.2782584 , 0.29248735, 0.31171873,\n",
    "       0.33590487, 0.36500263, 0.3989738 , 0.437785  , 0.4814075 ,\n",
    "       0.52981675, 0.5829917 , 0.6409146 , 0.7035703 , 0.77094585],\n",
    "      dtype=np.float32)\n",
    "aten = np.expand_dims(aten, axis=-1)"
   ]
  },
  {
   "cell_type": "code",
   "execution_count": 10,
   "metadata": {
    "id": "xwC5jvLe09D8"
   },
   "outputs": [],
   "source": [
    "fitted_parabola = accel_mat + F_mat @ (aten - accel_mat)"
   ]
  },
  {
   "cell_type": "code",
   "execution_count": 11,
   "metadata": {
    "colab": {
     "base_uri": "https://localhost:8080/"
    },
    "id": "GQ70X7cR1Xlp",
    "outputId": "4c490852-ba41-4201-fcc5-6332f5fc87d3"
   },
   "outputs": [
    {
     "data": {
      "text/plain": [
       "(20, 1)"
      ]
     },
     "execution_count": 11,
     "metadata": {},
     "output_type": "execute_result"
    }
   ],
   "source": [
    "fitted_parabola.shape"
   ]
  },
  {
   "cell_type": "code",
   "execution_count": 12,
   "metadata": {
    "colab": {
     "base_uri": "https://localhost:8080/"
    },
    "id": "j2T4qlOw2Mr4",
    "outputId": "5291021b-3aa5-48e7-a861-a9bc1c4b2c5a"
   },
   "outputs": [
    {
     "data": {
      "text/plain": [
       "array([[0.00213015],\n",
       "       [0.0085206 ],\n",
       "       [0.01917135],\n",
       "       [0.0340824 ],\n",
       "       [0.05325375],\n",
       "       [0.0766854 ],\n",
       "       [0.10437735],\n",
       "       [0.1363296 ],\n",
       "       [0.17254215],\n",
       "       [0.213015  ],\n",
       "       [0.25774816],\n",
       "       [0.30674161],\n",
       "       [0.35999536],\n",
       "       [0.41750941],\n",
       "       [0.47928376],\n",
       "       [0.54531841],\n",
       "       [0.61561336],\n",
       "       [0.69016861],\n",
       "       [0.76898417],\n",
       "       [0.85206002]])"
      ]
     },
     "execution_count": 12,
     "metadata": {},
     "output_type": "execute_result"
    }
   ],
   "source": [
    "fitted_parabola"
   ]
  },
  {
   "cell_type": "code",
   "execution_count": 13,
   "metadata": {
    "colab": {
     "base_uri": "https://localhost:8080/",
     "height": 265
    },
    "id": "HIBrJPE91dYI",
    "outputId": "b648f5e1-80a7-47c8-d14a-9e7e2ac193aa"
   },
   "outputs": [
    {
     "data": {
      "image/png": "[encoded data removed]",
      "text/plain": [
       "<Figure size 432x288 with 1 Axes>"
      ]
     },
     "metadata": {
      "needs_background": "light"
     },
     "output_type": "display_data"
    }
   ],
   "source": [
    "plt.plot(aten)\n",
    "plt.plot(fitted_parabola)\n",
    "plt.show()"
   ]
  },
  {
   "cell_type": "markdown",
   "metadata": {
    "id": "kEY_TG5i1rIA"
   },
   "source": [
    "Seems to indicate that the gravity term used wasn't steep enough!"
   ]
  },
  {
   "cell_type": "code",
   "execution_count": 14,
   "metadata": {
    "id": "fX8Mrt9e1hg0"
   },
   "outputs": [],
   "source": [
    "# Doubled g\n",
    "F_mat, accel_mat = precompute_terms(N=20, delta_t=0.0333, g=9.8 * 2)\n",
    "fitted_parabola = accel_mat + F_mat @ (aten - accel_mat)"
   ]
  },
  {
   "cell_type": "code",
   "execution_count": 15,
   "metadata": {
    "id": "5Y0MAbde1u_y"
   },
   "outputs": [],
   "source": [
    "# accel_mat # verified to be doubled correctly"
   ]
  },
  {
   "cell_type": "code",
   "execution_count": 16,
   "metadata": {
    "colab": {
     "base_uri": "https://localhost:8080/"
    },
    "id": "R07NbAtO2SxF",
    "outputId": "e801a812-cc4f-4112-f123-9126b930216a"
   },
   "outputs": [
    {
     "data": {
      "text/plain": [
       "array([[0.00213015],\n",
       "       [0.0085206 ],\n",
       "       [0.01917135],\n",
       "       [0.0340824 ],\n",
       "       [0.05325375],\n",
       "       [0.0766854 ],\n",
       "       [0.10437735],\n",
       "       [0.1363296 ],\n",
       "       [0.17254215],\n",
       "       [0.213015  ],\n",
       "       [0.25774816],\n",
       "       [0.30674161],\n",
       "       [0.35999536],\n",
       "       [0.41750941],\n",
       "       [0.47928376],\n",
       "       [0.54531841],\n",
       "       [0.61561336],\n",
       "       [0.69016861],\n",
       "       [0.76898417],\n",
       "       [0.85206002]])"
      ]
     },
     "execution_count": 16,
     "metadata": {},
     "output_type": "execute_result"
    }
   ],
   "source": [
    "fitted_parabola"
   ]
  },
  {
   "cell_type": "code",
   "execution_count": 17,
   "metadata": {
    "colab": {
     "base_uri": "https://localhost:8080/",
     "height": 265
    },
    "id": "co_JzXBT2RkG",
    "outputId": "db331e96-3379-460d-a8ad-4d058e95ee71"
   },
   "outputs": [
    {
     "data": {
      "image/png": "[encoded data removed]",
      "text/plain": [
       "<Figure size 432x288 with 1 Axes>"
      ]
     },
     "metadata": {
      "needs_background": "light"
     },
     "output_type": "display_data"
    }
   ],
   "source": [
    "plt.plot(aten)\n",
    "plt.plot(fitted_parabola)\n",
    "plt.show()"
   ]
  },
  {
   "cell_type": "markdown",
   "metadata": {
    "id": "0J_N3fMI2hHB"
   },
   "source": [
    "Fitted parabola is exactly the same. Something is wrong here."
   ]
  },
  {
   "cell_type": "markdown",
   "metadata": {},
   "source": [
    "## A more thorough experiment"
   ]
  },
  {
   "cell_type": "code",
   "execution_count": 18,
   "metadata": {},
   "outputs": [],
   "source": [
    "F_mat_before, accel_mat_before = precompute_terms(N=20, delta_t=0.0333, g=9.8)\n",
    "F_mat_after, accel_mat_after = precompute_terms(N=20, delta_t=0.0333, g=2*9.8)"
   ]
  },
  {
   "cell_type": "code",
   "execution_count": 19,
   "metadata": {},
   "outputs": [
    {
     "data": {
      "text/plain": [
       "array([[ 3.12276122e-01,  3.01409000e-01],\n",
       "       [ 2.57424163e-01,  2.13955675e-01],\n",
       "       [ 1.86195732e-01,  8.83916345e-02],\n",
       "       [ 9.85477954e-02, -7.53261566e-02],\n",
       "       [-5.56718274e-03, -2.77245233e-01],\n",
       "       [-1.26200432e-01, -5.17416824e-01],\n",
       "       [-2.63405627e-01, -7.95894605e-01],\n",
       "       [-4.17237395e-01, -1.11273320e+00],\n",
       "       [-5.87749529e-01, -1.46798641e+00],\n",
       "       [-7.74993468e-01, -1.86170567e+00],\n",
       "       [-9.79016896e-01, -2.29393866e+00],\n",
       "       [-1.19986294e+00, -2.76472850e+00],\n",
       "       [-1.43756983e+00, -3.27411344e+00],\n",
       "       [-1.69217091e+00, -3.82212682e+00],\n",
       "       [-1.96369496e+00, -4.40879741e+00],\n",
       "       [-2.25216649e+00, -5.03414972e+00],\n",
       "       [-2.55760654e+00, -5.69820480e+00],\n",
       "       [-2.88003291e+00, -6.40098044e+00],\n",
       "       [-3.21946074e+00, -7.14249178e+00],\n",
       "       [-3.57590295e+00, -7.92275175e+00]])"
      ]
     },
     "execution_count": 19,
     "metadata": {},
     "output_type": "execute_result"
    }
   ],
   "source": [
    "np.concatenate([aten - accel_mat_before, aten - accel_mat_after], axis=1)"
   ]
  },
  {
   "cell_type": "markdown",
   "metadata": {},
   "source": [
    "Seems to be acting reasonably so far. Doubled gravity should have larger difference between `aten` and `accel_mat`."
   ]
  },
  {
   "cell_type": "code",
   "execution_count": 20,
   "metadata": {},
   "outputs": [],
   "source": [
    "fitted_parabola_before = accel_mat_before + F_mat_before @ (aten - accel_mat_before)\n",
    "fitted_parabola_after = accel_mat_after + F_mat_after @ (aten - accel_mat_after)"
   ]
  },
  {
   "cell_type": "code",
   "execution_count": 21,
   "metadata": {},
   "outputs": [
    {
     "data": {
      "image/png": "[encoded data removed]",
      "text/plain": [
       "<Figure size 432x288 with 1 Axes>"
      ]
     },
     "metadata": {
      "needs_background": "light"
     },
     "output_type": "display_data"
    }
   ],
   "source": [
    "plt.plot(fitted_parabola_before)\n",
    "plt.plot(fitted_parabola_after)\n",
    "plt.show()"
   ]
  },
  {
   "cell_type": "code",
   "execution_count": 22,
   "metadata": {},
   "outputs": [
    {
     "data": {
      "text/plain": [
       "array([4.98155441e-05, 1.99262176e-04, 4.48339897e-04, 7.97048706e-04,\n",
       "       1.24538860e-03, 1.79335959e-03, 2.44096166e-03, 3.18819482e-03,\n",
       "       4.03505907e-03, 4.98155441e-03, 6.02768084e-03, 7.17343835e-03,\n",
       "       8.41882695e-03, 9.76384665e-03, 1.12084974e-02, 1.27527793e-02,\n",
       "       1.43966922e-02, 1.61402363e-02, 1.79834114e-02, 1.99262176e-02])"
      ]
     },
     "execution_count": 22,
     "metadata": {},
     "output_type": "execute_result"
    }
   ],
   "source": [
    "F_mat_before[5, :]"
   ]
  },
  {
   "cell_type": "code",
   "execution_count": 23,
   "metadata": {},
   "outputs": [
    {
     "data": {
      "text/plain": [
       "array([4.98155441e-05, 1.99262176e-04, 4.48339897e-04, 7.97048706e-04,\n",
       "       1.24538860e-03, 1.79335959e-03, 2.44096166e-03, 3.18819482e-03,\n",
       "       4.03505907e-03, 4.98155441e-03, 6.02768084e-03, 7.17343835e-03,\n",
       "       8.41882695e-03, 9.76384665e-03, 1.12084974e-02, 1.27527793e-02,\n",
       "       1.43966922e-02, 1.61402363e-02, 1.79834114e-02, 1.99262176e-02])"
      ]
     },
     "execution_count": 23,
     "metadata": {},
     "output_type": "execute_result"
    }
   ],
   "source": [
    "F_mat_after[5, :]"
   ]
  },
  {
   "cell_type": "code",
   "execution_count": 24,
   "metadata": {},
   "outputs": [
    {
     "data": {
      "text/plain": [
       "0.0"
      ]
     },
     "execution_count": 24,
     "metadata": {},
     "output_type": "execute_result"
    }
   ],
   "source": [
    "np.sum(F_mat_after - F_mat_before)"
   ]
  },
  {
   "cell_type": "markdown",
   "metadata": {},
   "source": [
    "F_mat is exactly the same before and after! Therefore something is wrong in the formulation.\n",
    "\n",
    "Pouring over the math again, I found that some of the terms are wrong. In the Colab notebook, I used `A_mat` for big A and `accel_mat` for small a in the equation. Goofed the variable change when I replaced `A_mat` with `vd_mat`.\n",
    "\n",
    "Should be like this:"
   ]
  },
  {
   "cell_type": "code",
   "execution_count": 25,
   "metadata": {},
   "outputs": [],
   "source": [
    "def precompute_terms(N: int = 10, delta_t: float = 0.1, g: float = -9.8):\n",
    "    # velocity and displacement terms mat\n",
    "    vd_mat = np.stack([\n",
    "        [i * delta_t for i in range(1, N+1)],\n",
    "        [1] * N\n",
    "    ], axis=1)\n",
    "\n",
    "    accel_mat = np.array([g * (i * delta_t) ** 2 for i in range(1, N+1)])\n",
    "    accel_mat = np.expand_dims(accel_mat, axis=1)\n",
    "\n",
    "    F_mat = np.linalg.inv(vd_mat.transpose() @ vd_mat)\n",
    "    F_mat = vd_mat @ F_mat @ vd_mat.transpose()\n",
    "\n",
    "    return F_mat, accel_mat"
   ]
  },
  {
   "cell_type": "markdown",
   "metadata": {},
   "source": [
    "## Repeat experiment"
   ]
  },
  {
   "cell_type": "code",
   "execution_count": 26,
   "metadata": {},
   "outputs": [],
   "source": [
    "F_mat_before, accel_mat_before = precompute_terms(N=20, delta_t=0.0333, g=9.8)\n",
    "F_mat_after, accel_mat_after = precompute_terms(N=20, delta_t=0.0333, g=2*9.8)"
   ]
  },
  {
   "cell_type": "code",
   "execution_count": 27,
   "metadata": {},
   "outputs": [],
   "source": [
    "fitted_parabola_before = accel_mat_before + F_mat_before @ (aten - accel_mat_before)\n",
    "fitted_parabola_after = accel_mat_after + F_mat_after @ (aten - accel_mat_after)"
   ]
  },
  {
   "cell_type": "code",
   "execution_count": 29,
   "metadata": {},
   "outputs": [
    {
     "data": {
      "image/png": "[encoded data removed]",
      "text/plain": [
       "<Figure size 432x288 with 1 Axes>"
      ]
     },
     "metadata": {
      "needs_background": "light"
     },
     "output_type": "display_data"
    }
   ],
   "source": [
    "plt.plot(fitted_parabola_before, label=\"before\")\n",
    "plt.plot(fitted_parabola_after, label=\"after\")\n",
    "plt.plot(aten, label=\"actual data\")\n",
    "plt.legend()\n",
    "plt.show()"
   ]
  },
  {
   "cell_type": "markdown",
   "metadata": {},
   "source": [
    "Alrighty. This behaves as intended. Higher gravity causes a steeper parabola."
   ]
  },
  {
   "cell_type": "markdown",
   "metadata": {},
   "source": [
    "## Tweaking g"
   ]
  },
  {
   "cell_type": "code",
   "execution_count": 40,
   "metadata": {},
   "outputs": [],
   "source": [
    "F_mat, accel_mat = precompute_terms(N=20, delta_t=0.0333, g=9.8 / 4)\n",
    "fitted_parabola = accel_mat + F_mat @ (aten - accel_mat)"
   ]
  },
  {
   "cell_type": "code",
   "execution_count": 41,
   "metadata": {},
   "outputs": [
    {
     "data": {
      "image/png": "[encoded data removed]",
      "text/plain": [
       "<Figure size 432x288 with 1 Axes>"
      ]
     },
     "metadata": {
      "needs_background": "light"
     },
     "output_type": "display_data"
    }
   ],
   "source": [
    "plt.plot(fitted_parabola, label=\"fitted parabola\")\n",
    "plt.plot(aten, label=\"actual data\")\n",
    "plt.legend()\n",
    "plt.show()"
   ]
  },
  {
   "cell_type": "markdown",
   "metadata": {},
   "source": [
    "Tried a range of divisors from 2 to 8. 4 fit the best. Why? Hunch is it's coz of the coordinate scaling."
   ]
  },
  {
   "cell_type": "code",
   "execution_count": 42,
   "metadata": {},
   "outputs": [
    {
     "data": {
      "text/plain": [
       "1.5543122344752192e-15"
      ]
     },
     "execution_count": 42,
     "metadata": {},
     "output_type": "execute_result"
    }
   ],
   "source": [
    "parabola_loss(fitted_parabola, F_mat, accel_mat)"
   ]
  },
  {
   "cell_type": "code",
   "execution_count": 45,
   "metadata": {},
   "outputs": [
    {
     "data": {
      "image/png": "[encoded data removed]",
      "text/plain": [
       "<Figure size 432x288 with 1 Axes>"
      ]
     },
     "metadata": {
      "needs_background": "light"
     },
     "output_type": "display_data"
    }
   ],
   "source": [
    "F_mat, accel_mat = precompute_terms(N=20, delta_t=0.0333, g=9.8)\n",
    "fitted_parabola = accel_mat + F_mat @ (aten - accel_mat)\n",
    "\n",
    "plt.plot(fitted_parabola, label=\"fitted parabola\")\n",
    "plt.plot(aten, label=\"actual data\")\n",
    "plt.legend()\n",
    "plt.show()"
   ]
  },
  {
   "cell_type": "code",
   "execution_count": 46,
   "metadata": {},
   "outputs": [
    {
     "data": {
      "text/plain": [
       "8.631984016460592e-15"
      ]
     },
     "execution_count": 46,
     "metadata": {},
     "output_type": "execute_result"
    }
   ],
   "source": [
    "parabola_loss(fitted_parabola, F_mat, accel_mat)"
   ]
  },
  {
   "cell_type": "markdown",
   "metadata": {},
   "source": [
    "Huh wow this parabola somehow scores pretty low compared to the actual data. Oh right this loss measures for how well does it approximate a parabola."
   ]
  }
 ],
 "metadata": {
  "colab": {
   "collapsed_sections": [],
   "name": "labelfree-parabola-loss.ipynb",
   "provenance": []
  },
  "kernelspec": {
   "display_name": "Python [conda env:labelfree]",
   "language": "python",
   "name": "conda-env-labelfree-py"
  },
  "language_info": {
   "codemirror_mode": {
    "name": "ipython",
    "version": 3
   },
   "file_extension": ".py",
   "mimetype": "text/x-python",
   "name": "python",
   "nbconvert_exporter": "python",
   "pygments_lexer": "ipython3",
   "version": "3.9.9"
  }
 },
 "nbformat": 4,
 "nbformat_minor": 4
}
