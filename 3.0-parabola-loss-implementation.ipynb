{
 "cells": [
  {
   "cell_type": "markdown",
   "metadata": {
    "id": "9K6O7mGu0UVB"
   },
   "source": [
    "Implementing the parabola loss in the label free paper:"
   ]
  },
  {
   "cell_type": "code",
   "execution_count": 1,
   "metadata": {
    "id": "pAXUIsgIrLEu"
   },
   "outputs": [],
   "source": [
    "import numpy as np\n",
    "import matplotlib.pyplot as plt\n",
    "%matplotlib inline"
   ]
  },
  {
   "cell_type": "code",
   "execution_count": 2,
   "metadata": {
    "id": "0GKiQ-AGzme1"
   },
   "outputs": [],
   "source": [
    "N = 10\n",
    "delta_t = 0.1\n",
    "g = -9.8"
   ]
  },
  {
   "cell_type": "code",
   "execution_count": 3,
   "metadata": {
    "id": "3TEmVHx-z2b7"
   },
   "outputs": [],
   "source": [
    "A_mat = np.stack([\n",
    "    [i * delta_t for i in range(1, N+1)],\n",
    "    [1] * N\n",
    "], axis=1)"
   ]
  },
  {
   "cell_type": "code",
   "execution_count": 4,
   "metadata": {
    "colab": {
     "base_uri": "https://localhost:8080/"
    },
    "id": "yZjd4IKT0N8q",
    "outputId": "d18377ee-816f-487d-b820-5b885c92861c"
   },
   "outputs": [
    {
     "data": {
      "text/plain": [
       "(10, 2)"
      ]
     },
     "execution_count": 4,
     "metadata": {},
     "output_type": "execute_result"
    }
   ],
   "source": [
    "A_mat.shape"
   ]
  },
  {
   "cell_type": "code",
   "execution_count": 5,
   "metadata": {
    "colab": {
     "base_uri": "https://localhost:8080/"
    },
    "id": "HslcQ5ar0Oen",
    "outputId": "10274359-a1f0-4a8b-95c2-bf296e7cb3b7"
   },
   "outputs": [
    {
     "data": {
      "text/plain": [
       "array([[0.1, 1. ],\n",
       "       [0.2, 1. ],\n",
       "       [0.3, 1. ],\n",
       "       [0.4, 1. ],\n",
       "       [0.5, 1. ],\n",
       "       [0.6, 1. ],\n",
       "       [0.7, 1. ],\n",
       "       [0.8, 1. ],\n",
       "       [0.9, 1. ],\n",
       "       [1. , 1. ]])"
      ]
     },
     "execution_count": 5,
     "metadata": {},
     "output_type": "execute_result"
    }
   ],
   "source": [
    "A_mat"
   ]
  },
  {
   "cell_type": "code",
   "execution_count": 6,
   "metadata": {
    "id": "aL5UzPr10cO7"
   },
   "outputs": [],
   "source": [
    "accel_mat = np.array([g * (i * delta_t) ** 2 for i in range(1, N+1)])"
   ]
  },
  {
   "cell_type": "code",
   "execution_count": 7,
   "metadata": {
    "colab": {
     "base_uri": "https://localhost:8080/"
    },
    "id": "1uICxzr10O92",
    "outputId": "07b98f70-4868-46bb-9c20-3c775b5edd43"
   },
   "outputs": [
    {
     "data": {
      "text/plain": [
       "array([-0.098, -0.392, -0.882, -1.568, -2.45 , -3.528, -4.802, -6.272,\n",
       "       -7.938, -9.8  ])"
      ]
     },
     "execution_count": 7,
     "metadata": {},
     "output_type": "execute_result"
    }
   ],
   "source": [
    "accel_mat"
   ]
  },
  {
   "cell_type": "code",
   "execution_count": 8,
   "metadata": {
    "id": "vywT4-Ln1CUs"
   },
   "outputs": [],
   "source": [
    "accel_mat = accel_mat.reshape(-1, 1)"
   ]
  },
  {
   "cell_type": "code",
   "execution_count": 9,
   "metadata": {
    "colab": {
     "base_uri": "https://localhost:8080/"
    },
    "id": "3YUVTjoh1Is6",
    "outputId": "21d3b7a5-8cdd-4381-f516-cae0958f3597"
   },
   "outputs": [
    {
     "data": {
      "text/plain": [
       "array([[-0.098],\n",
       "       [-0.392],\n",
       "       [-0.882],\n",
       "       [-1.568],\n",
       "       [-2.45 ],\n",
       "       [-3.528],\n",
       "       [-4.802],\n",
       "       [-6.272],\n",
       "       [-7.938],\n",
       "       [-9.8  ]])"
      ]
     },
     "execution_count": 9,
     "metadata": {},
     "output_type": "execute_result"
    }
   ],
   "source": [
    "accel_mat"
   ]
  },
  {
   "cell_type": "code",
   "execution_count": 10,
   "metadata": {
    "id": "9tO4qmcX1RjC"
   },
   "outputs": [],
   "source": [
    "F_mat = np.linalg.inv(A_mat.transpose() @ A_mat)"
   ]
  },
  {
   "cell_type": "code",
   "execution_count": 11,
   "metadata": {
    "id": "Rg97Ef4019eH"
   },
   "outputs": [],
   "source": [
    "F_mat = A_mat @ F_mat @ A_mat.transpose()"
   ]
  },
  {
   "cell_type": "code",
   "execution_count": 12,
   "metadata": {
    "colab": {
     "base_uri": "https://localhost:8080/"
    },
    "id": "hoY43lRC2Rmg",
    "outputId": "1d8950c8-9ef5-4293-d7b8-45e73671aa6d"
   },
   "outputs": [
    {
     "data": {
      "text/plain": [
       "(10, 10)"
      ]
     },
     "execution_count": 12,
     "metadata": {},
     "output_type": "execute_result"
    }
   ],
   "source": [
    "F_mat.shape"
   ]
  },
  {
   "cell_type": "code",
   "execution_count": 13,
   "metadata": {
    "id": "bDURr4ix2YHz"
   },
   "outputs": [],
   "source": [
    "preds = np.random.uniform(size=(10, 1))"
   ]
  },
  {
   "cell_type": "code",
   "execution_count": 14,
   "metadata": {
    "id": "wNFb5gZ30_go"
   },
   "outputs": [],
   "source": [
    "parabola = accel_mat + F_mat @ (preds - accel_mat)"
   ]
  },
  {
   "cell_type": "code",
   "execution_count": 15,
   "metadata": {
    "colab": {
     "base_uri": "https://localhost:8080/"
    },
    "id": "9AKmx0zd2e_E",
    "outputId": "48f598ff-0c70-4032-8d1f-fb388ab04b9a"
   },
   "outputs": [
    {
     "data": {
      "text/plain": [
       "array([[-0.73622394],\n",
       "       [ 0.08082217],\n",
       "       [ 0.70186829],\n",
       "       [ 1.12691441],\n",
       "       [ 1.35596052],\n",
       "       [ 1.38900664],\n",
       "       [ 1.22605275],\n",
       "       [ 0.86709887],\n",
       "       [ 0.31214499],\n",
       "       [-0.4388089 ]])"
      ]
     },
     "execution_count": 15,
     "metadata": {},
     "output_type": "execute_result"
    }
   ],
   "source": [
    "parabola"
   ]
  },
  {
   "cell_type": "code",
   "execution_count": 16,
   "metadata": {
    "colab": {
     "base_uri": "https://localhost:8080/",
     "height": 265
    },
    "id": "0KSiaH842fij",
    "outputId": "e8b0c6ba-1dc6-469e-8471-75a356f44e37"
   },
   "outputs": [
    {
     "data": {
      "image/png": "[encoded data removed]",
      "text/plain": [
       "<Figure size 432x288 with 1 Axes>"
      ]
     },
     "metadata": {
      "needs_background": "light"
     },
     "output_type": "display_data"
    }
   ],
   "source": [
    "plt.plot(parabola)\n",
    "plt.plot(preds)\n",
    "plt.show()"
   ]
  },
  {
   "cell_type": "markdown",
   "metadata": {
    "id": "SlQt98do2nY-"
   },
   "source": [
    "Stringing the pieces into a loss function:"
   ]
  },
  {
   "cell_type": "code",
   "execution_count": 17,
   "metadata": {
    "id": "k96NXpRc2vD-"
   },
   "outputs": [],
   "source": [
    "def parabola_loss(preds: np.ndarray):\n",
    "    # preds should have shape (N, 1)\n",
    "    \n",
    "    N = len(preds)\n",
    "    delta_t = 0.1\n",
    "    g = -9.8\n",
    "\n",
    "    # velocity and displacement terms mat\n",
    "    vd_mat = np.stack([\n",
    "        [i * delta_t for i in range(1, N+1)],\n",
    "        [1] * N\n",
    "    ], axis=1)\n",
    "\n",
    "    accel_mat = np.array([g * (i * delta_t) ** 2 for i in range(1, N+1)])\n",
    "    accel_mat = np.expand_dims(accel_mat, axis=1)\n",
    "\n",
    "    F_mat = np.linalg.inv(A_mat.transpose() @ A_mat)\n",
    "    F_mat = A_mat @ F_mat @ A_mat.transpose()\n",
    "\n",
    "    parabola = accel_mat + F_mat @ (preds - accel_mat)\n",
    "\n",
    "    return np.sum(np.abs(parabola - preds))"
   ]
  },
  {
   "cell_type": "code",
   "execution_count": 18,
   "metadata": {
    "colab": {
     "base_uri": "https://localhost:8080/"
    },
    "id": "qbF-1UWE2s2R",
    "outputId": "f39f33eb-b483-40ea-900c-1fb82e2b7bd2"
   },
   "outputs": [
    {
     "data": {
      "text/plain": [
       "6.11506850223698"
      ]
     },
     "execution_count": 18,
     "metadata": {},
     "output_type": "execute_result"
    }
   ],
   "source": [
    "parabola_loss(np.random.uniform(size=(10, 1)))"
   ]
  },
  {
   "cell_type": "code",
   "execution_count": 19,
   "metadata": {
    "id": "zSCxNFAE4Yho"
   },
   "outputs": [],
   "source": [
    "preds = np.random.uniform(size=(10, 1))"
   ]
  },
  {
   "cell_type": "code",
   "execution_count": 20,
   "metadata": {
    "colab": {
     "base_uri": "https://localhost:8080/"
    },
    "id": "NSJanQxq4T4s",
    "outputId": "c60e7743-1579-497e-9454-bf82756f8195"
   },
   "outputs": [
    {
     "name": "stdout",
     "output_type": "stream",
     "text": [
      "The slowest run took 5.14 times longer than the fastest. This could mean that an intermediate result is being cached.\n",
      "10000 loops, best of 5: 141 µs per loop\n"
     ]
    }
   ],
   "source": [
    "%%timeit\n",
    "parabola_loss(preds)"
   ]
  },
  {
   "cell_type": "markdown",
   "metadata": {
    "id": "-YV3c1ic3hBM"
   },
   "source": [
    "The mat muls only need to be done once as long as the number of N and delta_t evaluated at every training step is the same."
   ]
  },
  {
   "cell_type": "code",
   "execution_count": 21,
   "metadata": {
    "id": "6b9xXIMF312v"
   },
   "outputs": [],
   "source": [
    "def precompute_terms(N: int = 10, delta_t: float = 0.1, g = -9.8):\n",
    "    # velocity and displacement terms mat\n",
    "    vd_mat = np.stack([\n",
    "        [i * delta_t for i in range(1, N+1)],\n",
    "        [1] * N\n",
    "    ], axis=1)\n",
    "\n",
    "    accel_mat = np.array([g * (i * delta_t) ** 2 for i in range(1, N+1)])\n",
    "    accel_mat = np.expand_dims(accel_mat, axis=1)\n",
    "\n",
    "    F_mat = np.linalg.inv(accel_mat.transpose() @ accel_mat)\n",
    "    F_mat = accel_mat @ F_mat @ accel_mat.transpose()\n",
    "\n",
    "    return F_mat, accel_mat"
   ]
  },
  {
   "cell_type": "code",
   "execution_count": 22,
   "metadata": {
    "id": "yQqeARGQ4LLg"
   },
   "outputs": [],
   "source": [
    "F_mat, accel_mat = precompute_terms(N=10, delta_t=0.1)"
   ]
  },
  {
   "cell_type": "code",
   "execution_count": 23,
   "metadata": {
    "id": "LKy6Kq6z3wQB"
   },
   "outputs": [],
   "source": [
    "def parabola_loss(preds: np.ndarray, F_mat, accel_mat):\n",
    "    # preds should have shape (N, 1)\n",
    "    parabola = accel_mat + F_mat @ (preds - accel_mat)\n",
    "    return np.sum(np.abs(parabola - preds))"
   ]
  },
  {
   "cell_type": "code",
   "execution_count": 24,
   "metadata": {
    "colab": {
     "base_uri": "https://localhost:8080/"
    },
    "id": "3tNZu4954Pfk",
    "outputId": "ff5fcd42-5075-4a5a-8d63-7fa66ca7866d"
   },
   "outputs": [
    {
     "name": "stdout",
     "output_type": "stream",
     "text": [
      "The slowest run took 17.18 times longer than the fastest. This could mean that an intermediate result is being cached.\n",
      "10000 loops, best of 5: 29 µs per loop\n"
     ]
    }
   ],
   "source": [
    "%%timeit\n",
    "parabola_loss(preds, F_mat, accel_mat)"
   ]
  },
  {
   "cell_type": "markdown",
   "metadata": {
    "id": "c0FR8Spy4nrd"
   },
   "source": [
    "Yeah that's better. \n",
    "\n",
    "Alright! Here we go."
   ]
  }
 ],
 "metadata": {
  "colab": {
   "collapsed_sections": [],
   "name": "labelfree-parabola-loss.ipynb",
   "provenance": []
  },
  "kernelspec": {
   "display_name": "Python [conda env:labelfree]",
   "language": "python",
   "name": "conda-env-labelfree-py"
  },
  "language_info": {
   "codemirror_mode": {
    "name": "ipython",
    "version": 3
   },
   "file_extension": ".py",
   "mimetype": "text/x-python",
   "name": "python",
   "nbconvert_exporter": "python",
   "pygments_lexer": "ipython3",
   "version": "3.9.9"
  }
 },
 "nbformat": 4,
 "nbformat_minor": 4
}
